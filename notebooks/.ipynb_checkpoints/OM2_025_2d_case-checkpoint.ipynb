{
 "cells": [
  {
   "cell_type": "markdown",
   "id": "52266b62-5832-4642-8cff-58201a41b1a7",
   "metadata": {},
   "source": [
    "## Work on Ocean Data CM2 0.25"
   ]
  },
  {
   "cell_type": "code",
   "execution_count": 1,
   "id": "2950bdeb-3713-4568-9134-18b38c065f88",
   "metadata": {},
   "outputs": [],
   "source": [
    "import xarray as xr\n",
    "import numpy as np\n",
    "import cmor"
   ]
  },
  {
   "cell_type": "code",
   "execution_count": 2,
   "id": "33d70099-2982-4be7-871d-bdd3659264d3",
   "metadata": {},
   "outputs": [],
   "source": [
    "ds = xr.open_dataset(\"Test_data/cj877/history/ocn/ocean-2d-sea_level-1-monthly-mean-ym_0326_01.nc\", decode_times=False)"
   ]
  },
  {
   "cell_type": "code",
   "execution_count": 3,
   "id": "00958c0f-da31-4730-9b9a-ba4f07b897a5",
   "metadata": {},
   "outputs": [],
   "source": [
    "varname = \"sea_level\"\n",
    "var_data = ds[varname]"
   ]
  },
  {
   "cell_type": "code",
   "execution_count": 4,
   "id": "956f85ac-e25e-4589-a21d-2910db9eb4f7",
   "metadata": {},
   "outputs": [],
   "source": [
    "i_axis = ds[varname][\"xt_ocean\"]\n",
    "j_axis = ds[varname][\"yt_ocean\"]"
   ]
  },
  {
   "cell_type": "code",
   "execution_count": 5,
   "id": "3cac75dc-c162-476f-a76f-7d928a7b0a71",
   "metadata": {},
   "outputs": [],
   "source": [
    "x = np.arange(i_axis.size, dtype=\"float\")\n",
    "x_bnds = np.array([[x_ - 0.5, x_ + 0.5] for x_ in x])\n",
    "y = np.arange(j_axis.size, dtype=\"float\")\n",
    "y_bnds = np.array([[y_ - 0.5, y_ + 0.5] for y_ in y])"
   ]
  },
  {
   "cell_type": "markdown",
   "id": "4808bbc5-6e3c-47a8-a876-1e54891426fd",
   "metadata": {},
   "source": [
    "### MOM6 Supergrid"
   ]
  },
  {
   "cell_type": "code",
   "execution_count": 6,
   "id": "17154371-cf5a-4507-be3a-0c5fe7057221",
   "metadata": {},
   "outputs": [],
   "source": [
    "grid_filepath = \"./grids/access-om2/input_20201102/mom_025deg/ocean_hgrid.nc\""
   ]
  },
  {
   "cell_type": "code",
   "execution_count": 7,
   "id": "74e9dbe5-6aaa-4cd3-b6f4-193779597fd1",
   "metadata": {},
   "outputs": [],
   "source": [
    "grid = xr.open_dataset(grid_filepath)"
   ]
  },
  {
   "cell_type": "code",
   "execution_count": 8,
   "id": "d9548b1d-3945-4fa9-a288-900abb4e0284",
   "metadata": {},
   "outputs": [],
   "source": [
    "# T point locations\n",
    "xt = grid['x'][1::2,1::2]\n",
    "yt = grid['y'][1::2,1::2]\n",
    "# Corner point locations\n",
    "xq = grid['x'][::2,::2]\n",
    "yq = grid['y'][::2,::2]\n",
    "# U point locations\n",
    "xu = grid['x'][1::2,::2]\n",
    "yu = grid['y'][1::2,::2]\n",
    "# V point locations\n",
    "xv = grid['x'][::2,1::2]\n",
    "yv = grid['y'][::2,1::2]"
   ]
  },
  {
   "cell_type": "code",
   "execution_count": 9,
   "id": "697c7911-7571-4da7-9d4e-66601dd7c0bf",
   "metadata": {},
   "outputs": [],
   "source": [
    "lat = yt.values\n",
    "lon = (xt.values + 360) % 360"
   ]
  },
  {
   "cell_type": "code",
   "execution_count": 10,
   "id": "7acec8f2-c11e-4ac6-a233-884e3b26b3d4",
   "metadata": {},
   "outputs": [],
   "source": [
    "lat_bnds = np.zeros((*yt.shape, 4))\n",
    "lon_bnds = np.zeros((*xt.shape, 4))"
   ]
  },
  {
   "cell_type": "code",
   "execution_count": 11,
   "id": "41387dd8-c81d-451e-955f-ff42444c8bea",
   "metadata": {},
   "outputs": [],
   "source": [
    "lat_bnds[..., 0] = yq[1:, :-1]  # SW corner\n",
    "lat_bnds[..., 1] = yq[1:, 1:]   # SE corner\n",
    "lat_bnds[..., 2] = yq[:-1, 1:]  # NE corner\n",
    "lat_bnds[..., 3] = yq[:-1, :-1] # NW corner\n",
    "\n",
    "xq = (xq + 360) % 360\n",
    "lon_bnds[..., 0] = xq[1:, :-1]  # SW corner\n",
    "lon_bnds[..., 1] = xq[1:, 1:]   # SE corner\n",
    "lon_bnds[..., 2] = xq[:-1, 1:]  # NE corner\n",
    "lon_bnds[..., 3] = xq[:-1, :-1] # NW corner"
   ]
  },
  {
   "cell_type": "code",
   "execution_count": 12,
   "id": "2c29eeff-af9c-4ced-a1e1-440c671c3c7c",
   "metadata": {},
   "outputs": [],
   "source": [
    "time = ds[\"time\"].values\n",
    "time_bnds = ds[\"time_bnds\"].values"
   ]
  },
  {
   "cell_type": "code",
   "execution_count": 13,
   "id": "9ece8a53-634f-4b06-ac01-aaca6535a920",
   "metadata": {},
   "outputs": [
    {
     "data": {
      "text/plain": [
       "0"
      ]
     },
     "execution_count": 13,
     "metadata": {},
     "output_type": "execute_result"
    }
   ],
   "source": [
    "ipth = opth = 'Test'\n",
    "cmor.setup(inpath=ipth,\n",
    "           set_verbosity=cmor.CMOR_NORMAL,\n",
    "           netcdf_file_action=cmor.CMOR_REPLACE,\n",
    "           exit_control=cmor.CMOR_EXIT_ON_MAJOR)\n",
    "cmor.dataset_json('CMOR_input_example.json')"
   ]
  },
  {
   "cell_type": "code",
   "execution_count": 14,
   "id": "5da3ba85-7e39-4fad-95b7-9fd44466a559",
   "metadata": {},
   "outputs": [
    {
     "data": {
      "text/plain": [
       "0"
      ]
     },
     "execution_count": 14,
     "metadata": {},
     "output_type": "execute_result"
    }
   ],
   "source": [
    "# First, load the grids table to set up x and y axes and the lat-long grid\n",
    "grid_table_id = cmor.load_table(\"cmip6-cmor-tables/Tables/CMIP6_grids.json\")\n",
    "cmor.set_table(grid_table_id)"
   ]
  },
  {
   "cell_type": "code",
   "execution_count": 15,
   "id": "707d8645-7c64-407e-bdd6-a56f9f2d7c5a",
   "metadata": {},
   "outputs": [
    {
     "data": {
      "text/plain": [
       "((1080, 1440), (1080, 1440, 4), (6, 1080, 1440))"
      ]
     },
     "execution_count": 15,
     "metadata": {},
     "output_type": "execute_result"
    }
   ],
   "source": [
    "lat.shape, lat_bnds.shape, var_data.shape"
   ]
  },
  {
   "cell_type": "code",
   "execution_count": 16,
   "id": "925a7a38-2219-4bc6-90b4-5b9e3513455f",
   "metadata": {},
   "outputs": [],
   "source": [
    "yaxis_id = cmor.axis(table_entry=\"j_index\", units=\"1\", coord_vals=y, cell_bounds=y_bnds)"
   ]
  },
  {
   "cell_type": "code",
   "execution_count": 17,
   "id": "c5f99ed4-5a81-4c83-8b19-37104f1813a3",
   "metadata": {},
   "outputs": [],
   "source": [
    "xaxis_id = cmor.axis(table_entry=\"i_index\", units=\"1\", coord_vals=x, cell_bounds=x_bnds)"
   ]
  },
  {
   "cell_type": "code",
   "execution_count": 18,
   "id": "8871c4fc-473e-41e7-9fec-6bd3d95724e9",
   "metadata": {},
   "outputs": [],
   "source": [
    "grid_id = cmor.grid(axis_ids=np.array([yaxis_id, xaxis_id]), latitude=lat, longitude=lon, latitude_vertices=lat_bnds, longitude_vertices=lon_bnds)"
   ]
  },
  {
   "cell_type": "code",
   "execution_count": 19,
   "id": "d1c30529-9598-43f0-a731-c62899cff19e",
   "metadata": {},
   "outputs": [
    {
     "data": {
      "text/plain": [
       "0"
      ]
     },
     "execution_count": 19,
     "metadata": {},
     "output_type": "execute_result"
    }
   ],
   "source": [
    "# Now, load the Omon table to set up the time axis and variable\n",
    "omon_table_id = cmor.load_table('./cmip6-cmor-tables/Tables/CMIP6_Omon.json')\n",
    "cmor.set_table(omon_table_id)"
   ]
  },
  {
   "cell_type": "code",
   "execution_count": 20,
   "id": "141ab8c2-a1ee-4c35-99db-5aa68fa4ecc9",
   "metadata": {},
   "outputs": [],
   "source": [
    "time_units = ds[\"time\"].units\n",
    "time_axis_id = cmor.axis(table_entry='time',\n",
    "                         units=time_units,\n",
    "                         coord_vals=time,\n",
    "                         cell_bounds=time_bnds)"
   ]
  },
  {
   "cell_type": "code",
   "execution_count": 21,
   "id": "32592566-e600-4463-b949-d4de1c5ac1ca",
   "metadata": {},
   "outputs": [],
   "source": [
    "var_id = cmor.variable(table_entry='zos',\n",
    "                       units='m',\n",
    "                       axis_ids=[grid_id, time_axis_id])"
   ]
  },
  {
   "cell_type": "code",
   "execution_count": 22,
   "id": "733b79d8-8511-4573-9783-50acfee81535",
   "metadata": {},
   "outputs": [],
   "source": [
    "var_data = np.moveaxis(var_data.values, 0, -1)"
   ]
  },
  {
   "cell_type": "code",
   "execution_count": 23,
   "id": "55aad669-3e1e-4fc6-8f43-0cd8290ef674",
   "metadata": {},
   "outputs": [],
   "source": [
    "var_data = var_data#[..., :2]"
   ]
  },
  {
   "cell_type": "code",
   "execution_count": 24,
   "id": "bfbb59c6-6bef-49e0-9051-ab3a64724095",
   "metadata": {},
   "outputs": [
    {
     "name": "stderr",
     "output_type": "stream",
     "text": [
      "\n",
      "\u001b[2;34;47mC Traceback:\n",
      "In function: _CV_CompareNoParent\n",
      "! called from: _CV_checkParentExpID\n",
      "! called from: cmor_write\n",
      "! \u001b[0m\n",
      "\n",
      "\u001b[1;34;47m!!!!!!!!!!!!!!!!!!!!!!!!!\n",
      "!\n",
      "! Warning: Your input attribute parent_mip_era with value \"CMIP6\" \n",
      "! will be replaced with value \"no parent\".\n",
      "! \n",
      "!\n",
      "!!!!!!!!!!!!!!!!!!!!!!!!!\u001b[0m\n",
      "\n",
      "\n",
      "\u001b[2;34;47mC Traceback:\n",
      "In function: _CV_CompareNoParent\n",
      "! called from: _CV_checkParentExpID\n",
      "! called from: cmor_write\n",
      "! \u001b[0m\n",
      "\n",
      "\u001b[1;34;47m!!!!!!!!!!!!!!!!!!!!!!!!!\n",
      "!\n",
      "! Warning: Your input attribute parent_source_id with value \"PCMDI-test-1-0\" \n",
      "! will be replaced with value \"no parent\".\n",
      "! \n",
      "!\n",
      "!!!!!!!!!!!!!!!!!!!!!!!!!\u001b[0m\n",
      "\n",
      "\n",
      "\u001b[2;34;47mC Traceback:\n",
      "In function: _CV_CompareNoParent\n",
      "! called from: _CV_checkParentExpID\n",
      "! called from: cmor_write\n",
      "! \u001b[0m\n",
      "\n",
      "\u001b[1;34;47m!!!!!!!!!!!!!!!!!!!!!!!!!\n",
      "!\n",
      "! Warning: Your input attribute parent_time_units with value \"days since 1850-01-01\" \n",
      "! will be replaced with value \"no parent\".\n",
      "! \n",
      "!\n",
      "!!!!!!!!!!!!!!!!!!!!!!!!!\u001b[0m\n",
      "\n",
      "\n",
      "\u001b[2;34;47mC Traceback:\n",
      "In function: _CV_CompareNoParent\n",
      "! called from: _CV_checkParentExpID\n",
      "! called from: cmor_write\n",
      "! \u001b[0m\n",
      "\n",
      "\u001b[1;34;47m!!!!!!!!!!!!!!!!!!!!!!!!!\n",
      "!\n",
      "! Warning: Your "
     ]
    },
    {
     "data": {
      "text/plain": [
       "0"
      ]
     },
     "execution_count": 24,
     "metadata": {},
     "output_type": "execute_result"
    },
    {
     "name": "stderr",
     "output_type": "stream",
     "text": [
      "input attribute parent_variant_label with value \"r3i1p1f1\" \n",
      "! will be replaced with value \"no parent\".\n",
      "! \n",
      "!\n",
      "!!!!!!!!!!!!!!!!!!!!!!!!!\u001b[0m\n",
      "\n",
      "\n",
      "\u001b[2;34;47mC Traceback:\n",
      "In function: _CV_CompareNoParent\n",
      "! called from: _CV_checkParentExpID\n",
      "! called from: cmor_write\n",
      "! \u001b[0m\n",
      "\n",
      "\u001b[1;34;47m!!!!!!!!!!!!!!!!!!!!!!!!!\n",
      "!\n",
      "! Warning: Your input attribute branch_method with value \"standard\" \n",
      "! will be replaced with value \"no parent\".\n",
      "! \n",
      "!\n",
      "!!!!!!!!!!!!!!!!!!!!!!!!!\u001b[0m\n",
      "\n",
      "\n",
      "\u001b[2;34;47mC Traceback:\n",
      "In function: _CV_checkParentExpID\n",
      "! called from: cmor_write\n",
      "! \u001b[0m\n",
      "\n",
      "\u001b[1;34;47m!!!!!!!!!!!!!!!!!!!!!!!!!\n",
      "!\n",
      "! Warning: Your input attribute branch_time_in_parent 59400.0 \n",
      "! has been replaced with 0.0 \n",
      "! \n",
      "!\n",
      "!!!!!!!!!!!!!!!!!!!!!!!!!\u001b[0m\n",
      "\n"
     ]
    }
   ],
   "source": [
    "cmor.write(var_id, var_data, 6)"
   ]
  },
  {
   "cell_type": "code",
   "execution_count": 25,
   "id": "9a85cc91-cefe-4028-b0fe-215940d6d9e9",
   "metadata": {},
   "outputs": [
    {
     "name": "stdout",
     "output_type": "stream",
     "text": [
      "Stored in: CMIP6/CMIP6/ISMIP6/PCMDI/PCMDI-test-1-0/piControl-withism/r3i1p1f1/Omon/zos/gn/v20250219/zos_Omon_PCMDI-test-1-0_piControl-withism_r3i1p1f1_gn_033010-033103.nc\n"
     ]
    },
    {
     "name": "stderr",
     "output_type": "stream",
     "text": [
      "! ------\n",
      "! CMOR is now closed.\n",
      "! ------\n",
      "! During execution we encountered:\n",
      "!   6 Warning(s)\n",
      "!   0 Error(s)\n",
      "! ------\n",
      "! Please review them.\n",
      "! ------\n",
      "! \n"
     ]
    },
    {
     "data": {
      "text/plain": [
       "0"
      ]
     },
     "execution_count": 25,
     "metadata": {},
     "output_type": "execute_result"
    }
   ],
   "source": [
    "filename = cmor.close(var_id, file_name=True)\n",
    "print(\"Stored in:\", filename)\n",
    "cmor.close()"
   ]
  }
 ],
 "metadata": {
  "kernelspec": {
   "display_name": "Python 3 (ipykernel)",
   "language": "python",
   "name": "python3"
  },
  "language_info": {
   "codemirror_mode": {
    "name": "ipython",
    "version": 3
   },
   "file_extension": ".py",
   "mimetype": "text/x-python",
   "name": "python",
   "nbconvert_exporter": "python",
   "pygments_lexer": "ipython3",
   "version": "3.11.11"
  }
 },
 "nbformat": 4,
 "nbformat_minor": 5
}
