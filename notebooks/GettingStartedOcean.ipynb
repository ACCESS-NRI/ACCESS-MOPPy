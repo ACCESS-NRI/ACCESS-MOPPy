{
 "cells": [
  {
   "cell_type": "code",
   "execution_count": 1,
   "id": "66ea26fc-9f2f-4667-92ff-a46ea27a16d5",
   "metadata": {},
   "outputs": [
    {
     "name": "stdout",
     "output_type": "stream",
     "text": [
      "\n",
      "Loaded Configuration:\n",
      "Creator Name: Romain Beucher\n",
      "Organisation: ACCESS-NRI\n",
      "Creator Email: romain.beucher@anu.edu.au\n",
      "Creator URL: 0000-0003-3891-5444\n"
     ]
    }
   ],
   "source": [
    "from access_mopper.vocabulary_processors import CMIP6Vocabulary"
   ]
  },
  {
   "cell_type": "code",
   "execution_count": 2,
   "id": "e1601178-2f7c-4538-ab98-8e856d4185c2",
   "metadata": {},
   "outputs": [],
   "source": [
    "input_paths=\"/home/romain/PROJECTS/ACCESS-MOPPeR/ACCESS-MOPPeR/tests/data/esm1-6/ocean/ocean-2d-surface_temp-1monthly-mean-ym_0966_01.nc\""
   ]
  },
  {
   "cell_type": "code",
   "execution_count": 3,
   "id": "fd293ca3-d6e2-4fdc-935c-bd43d06d3110",
   "metadata": {},
   "outputs": [],
   "source": [
    "parent_experiment_config = {\n",
    "        \"parent_experiment_id\": \"piControl\",\n",
    "        \"parent_activity_id\": \"CMIP\",\n",
    "        \"parent_source_id\": \"ACCESS-ESM1-5\",\n",
    "        \"parent_variant_label\": \"r1i1p1f1\",\n",
    "        \"parent_time_units\": \"days since 0001-01-01 00:00:00\",\n",
    "        \"parent_mip_era\": \"CMIP6\",\n",
    "        \"branch_time_in_child\": 0.0,\n",
    "        \"branch_time_in_parent\": 54786.0,\n",
    "        \"branch_method\": \"standard\"\n",
    "}"
   ]
  },
  {
   "cell_type": "code",
   "execution_count": 4,
   "id": "fb371092-d40d-487d-8b4d-28cede52e6bb",
   "metadata": {},
   "outputs": [],
   "source": [
    "voc = CMIP6Vocabulary(\n",
    "    compound_name=\"Omon.tos\",\n",
    "    experiment_id=\"historical\",\n",
    "    source_id=\"ACCESS-ESM1-5\",\n",
    "    variant_label=\"r1i1p1f1\",\n",
    "    grid_label=\"gn\",\n",
    "    activity_id=\"CMIP\",\n",
    "    parent_info=parent_experiment_config)"
   ]
  },
  {
   "cell_type": "code",
   "execution_count": 5,
   "id": "d7ad164d-46a4-4d73-ab2d-c09fc6c1e257",
   "metadata": {},
   "outputs": [],
   "source": [
    "from access_mopper.cmip6_cmoriser import CMIP6_Ocean_CMORiser\n",
    "from access_mopper.utilities import load_cmip6_mappings\n",
    "from access_mopper.ocean_supergrid import Supergrid"
   ]
  },
  {
   "cell_type": "code",
   "execution_count": 6,
   "id": "f5e56ce6-ee0e-4c38-9526-f08746fbc49e",
   "metadata": {},
   "outputs": [],
   "source": [
    "variable_mapping = load_cmip6_mappings(\"Omon.tos\")"
   ]
  },
  {
   "cell_type": "code",
   "execution_count": 7,
   "id": "397687e8-46de-4d3f-87fd-0682c00afede",
   "metadata": {},
   "outputs": [],
   "source": [
    "supergrid = \"/home/romain/PROJECTS/ACCESS-MOPPeR/grids/access-om2/input_20201102/mom_1deg/ocean_hgrid.nc\""
   ]
  },
  {
   "cell_type": "code",
   "execution_count": 8,
   "id": "51cbaca6-bf14-4849-b074-dd709f4c822e",
   "metadata": {},
   "outputs": [],
   "source": [
    "cmoriser = CMIP6_Ocean_CMORiser(\n",
    "    input_paths=input_paths,\n",
    "    output_path=\".\",\n",
    "    cmor_name=voc.cmor_name,\n",
    "    cmip6_vocab=voc,\n",
    "    variable_mapping=variable_mapping,\n",
    "    supergrid_path=supergrid\n",
    ")"
   ]
  },
  {
   "cell_type": "code",
   "execution_count": 9,
   "id": "54efceb4-1d4f-4f51-ba5d-8a2644aa7652",
   "metadata": {},
   "outputs": [
    {
     "name": "stdout",
     "output_type": "stream",
     "text": [
      "CMORised output written to tos_Omon_ACCESS-ESM1-5_historical_r1i1p1f1_gn_096601-096612.nc\n"
     ]
    }
   ],
   "source": [
    "cmoriser.run()"
   ]
  },
  {
   "cell_type": "code",
   "execution_count": null,
   "id": "8b58dd51-d6ab-499e-a993-8fbc782fc6ad",
   "metadata": {},
   "outputs": [],
   "source": []
  }
 ],
 "metadata": {
  "kernelspec": {
   "display_name": "Python 3 (ipykernel)",
   "language": "python",
   "name": "python3"
  },
  "language_info": {
   "codemirror_mode": {
    "name": "ipython",
    "version": 3
   },
   "file_extension": ".py",
   "mimetype": "text/x-python",
   "name": "python",
   "nbconvert_exporter": "python",
   "pygments_lexer": "ipython3",
   "version": "3.11.11"
  }
 },
 "nbformat": 4,
 "nbformat_minor": 5
}
