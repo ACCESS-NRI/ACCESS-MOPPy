{
 "cells": [
  {
   "cell_type": "markdown",
   "id": "c042f571-90e9-4160-ae53-bdbc5a165525",
   "metadata": {},
   "source": [
    "# ACCESS-MOPPeR Getting Started"
   ]
  },
  {
   "cell_type": "markdown",
   "id": "3f926297-b0f2-4b7c-b2b2-aeac91e7b94f",
   "metadata": {},
   "source": [
    "## Set up configuration\n",
    "\n",
    "When you first import `access_mopper` in a Python environment, the package will automatically create a `user.yml` file in your home directory (`~/.mopper/user.yml`).  \n",
    "\n",
    "During this initial setup, you will be prompted to provide some basic information, including:  \n",
    "- Your name  \n",
    "- Your email address  \n",
    "- Your work organization\n",
    "- Your ORCID\n",
    "\n",
    "This information is stored in `user.yml` and will be used as global attributes in the files generated during the CMORisation process. This ensures that each CMORised file includes metadata identifying who performed the CMORisation, allowing us to track data provenance and follow up with the responsible person if needed."
   ]
  },
  {
   "cell_type": "code",
   "execution_count": 1,
   "id": "9f40c28f-78e8-4a7f-a1ab-d4ce6e49ccd4",
   "metadata": {},
   "outputs": [
    {
     "name": "stdout",
     "output_type": "stream",
     "text": [
      "\n",
      "Loaded Configuration:\n",
      "Creator Name: Romain Beucher\n",
      "Organisation: ACCESS-NRI\n",
      "Creator Email: romain.beucher@anu.edu.au\n",
      "Creator URL: 0000-0003-3891-5444\n"
     ]
    }
   ],
   "source": [
    "import access_mopper as mop"
   ]
  },
  {
   "cell_type": "code",
   "execution_count": 2,
   "id": "80dbbe95-35ea-43d1-a1a0-cea79082b2eb",
   "metadata": {},
   "outputs": [],
   "source": [
    "from access_mopper import CMIP6Workflow"
   ]
  },
  {
   "cell_type": "code",
   "execution_count": 3,
   "id": "b853d29a-ade3-43d1-b70d-e56febd1a1a2",
   "metadata": {},
   "outputs": [],
   "source": [
    "parent_experiment_config = {\n",
    "        \"parent_experiment_id\": \"piControl\",\n",
    "        \"parent_activity_id\": \"CMIP\",\n",
    "        \"parent_source_id\": \"ACCESS-ESM1-5\",\n",
    "        \"parent_variant_label\": \"r1i1p1f1\",\n",
    "        \"parent_time_units\": \"days since 0001-01-01 00:00:00\",\n",
    "        \"parent_mip_era\": \"CMIP6\",\n",
    "        \"branch_time_in_child\": 0.0,\n",
    "        \"branch_time_in_parent\": 54786.0,\n",
    "        \"branch_method\": \"standard\"\n",
    "}"
   ]
  },
  {
   "cell_type": "code",
   "execution_count": 6,
   "id": "0e54cf4e-b707-4128-aa93-23bb9cf684d3",
   "metadata": {},
   "outputs": [],
   "source": [
    "cmoriser = CMIP6Workflow(\n",
    "    input_paths=\"../tests/data/esm1-6/atmosphere/aiihca.pa-096110_mon.nc\", \n",
    "    compound_name=\"Amon.rsds\",\n",
    "    experiment_id=\"historical\",\n",
    "    source_id=\"ACCESS-ESM1-5\",\n",
    "    variant_label=\"r1i1p1f1\",\n",
    "    grid_label=\"gn\",\n",
    "    activity_id=\"CMIP\",\n",
    "    parent_info=parent_experiment_config)"
   ]
  },
  {
   "cell_type": "code",
   "execution_count": 7,
   "id": "5e6c9e48-9dc0-42ab-a396-6bcf7b57cb42",
   "metadata": {},
   "outputs": [
    {
     "name": "stdout",
     "output_type": "stream",
     "text": [
      "CMORised output written to rsds_Amon_ACCESS-ESM1-5_historical_r1i1p1f1_gn_096110-096110.nc\n"
     ]
    }
   ],
   "source": [
    "cmoriser.run()"
   ]
  }
 ],
 "metadata": {
  "kernelspec": {
   "display_name": "Python 3 (ipykernel)",
   "language": "python",
   "name": "python3"
  },
  "language_info": {
   "codemirror_mode": {
    "name": "ipython",
    "version": 3
   },
   "file_extension": ".py",
   "mimetype": "text/x-python",
   "name": "python",
   "nbconvert_exporter": "python",
   "pygments_lexer": "ipython3",
   "version": "3.11.11"
  }
 },
 "nbformat": 4,
 "nbformat_minor": 5
}
