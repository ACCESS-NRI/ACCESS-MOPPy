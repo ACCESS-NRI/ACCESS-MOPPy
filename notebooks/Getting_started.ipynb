{
 "cells": [
  {
   "cell_type": "markdown",
   "id": "c042f571-90e9-4160-ae53-bdbc5a165525",
   "metadata": {},
   "source": [
    "# ACCESS-MOPPeR Getting Started"
   ]
  },
  {
   "cell_type": "markdown",
   "id": "3f926297-b0f2-4b7c-b2b2-aeac91e7b94f",
   "metadata": {},
   "source": [
    "## Set up configuration\n",
    "\n",
    "When you first import `access_mopper` in a Python environment, the package will automatically create a `user.yml` file in your home directory (`~/.mopper/user.yml`).  \n",
    "\n",
    "During this initial setup, you will be prompted to provide some basic information, including:  \n",
    "- Your name  \n",
    "- Your email address  \n",
    "- Your work organization\n",
    "- Your ORCID\n",
    "\n",
    "This information is stored in `user.yml` and will be used as global attributes in the files generated during the CMORisation process. This ensures that each CMORised file includes metadata identifying who performed the CMORisation, allowing us to track data provenance and follow up with the responsible person if needed."
   ]
  },
  {
   "cell_type": "code",
   "execution_count": 2,
   "id": "9f40c28f-78e8-4a7f-a1ab-d4ce6e49ccd4",
   "metadata": {},
   "outputs": [],
   "source": [
    "\n",
    "import access_mopper as mop"
   ]
  },
  {
   "cell_type": "markdown",
   "id": "3b144fa1-4607-4de2-8200-30b9edb15fd4",
   "metadata": {},
   "source": [
    "## Create an Experiment\n",
    "\n",
    "In the context of CMORising data with **ACCESS-MOPPeR**, the next step involves creating an **experiment**. An **experiment** is a **dataclass** that defines the type of CMIP experiment you're working with. It plays a critical role in ensuring that the necessary metadata and configurations are applied when processing model output for CMORisation.\n",
    "\n",
    "### 1. **What is an Experiment?**\n",
    "An experiment in **ACCESS-MOPPeR** contains key information about the CMIP experiment you're trying to CMORise. This includes critical data such as:\n",
    "- **experiment_id**: For example, `\"piControl-spinup\"` in the context of the **ESM1.6** spin-up run.\n",
    "- **Additional Metadata**: The experiment dataclass also includes other metadata that will be stored as **global attributes** in the final CMORised output files. This information helps track the experiment, ensuring that relevant details (e.g., model version, configuration, initialization) are properly recorded in the processed data files.\n",
    "\n",
    "### 2. **Creating an ESM1.6 Experiment**\n",
    "For an **ESM1.6** experiment, you would define the experiment using an instance of the `ACCESS-ESM16-CMIP6` class. This class is designed specifically to handle the configurations associated with **ACCESS-ESM1.6**, and it pre-fills important details that will be attached to the output files after CMORisation. \n",
    "\n",
    "By using this class, you'll avoid manually entering configuration information, as it automates this process. These details include, but are not limited to:\n",
    "- The experiment's **id** (e.g., `\"piControl-spinup\"`).\n",
    "- The relevant **model configuration**, **forcing**, and **initialization** settings that are necessary to ensure proper CMORisation.\n",
    "\n",
    "### 3. Example:"
   ]
  },
  {
   "cell_type": "code",
   "execution_count": 3,
   "id": "21d86413-5e6d-49e8-82e1-7676af4152ef",
   "metadata": {},
   "outputs": [],
   "source": [
    "file_pattern = \"../tests/data/esm1-6/atmosphere/aiihca.pa-101909_mon.nc\""
   ]
  },
  {
   "cell_type": "code",
   "execution_count": 3,
   "id": "23fab0e1-6b22-4d03-9ca7-ffca55ee6d3e",
   "metadata": {},
   "outputs": [],
   "source": [
    "from access_mopper.configurations import ACCESS_ESM16_CMIP6\n",
    "\n",
    "experiment = ACCESS_ESM16_CMIP6(experiment_id = \"piControl-spinup\", \n",
    "                                realization_index=\"1\", \n",
    "                                initialization_index=\"1\", \n",
    "                                physics_index=\"1\", \n",
    "                                forcing_index=\"1\", \n",
    "                                parent_mip_era=\"no parent\",\n",
    "                                parent_activity_id=\"no parent\",\n",
    "                                parent_experiment_id= \"no parent\",\n",
    "                                parent_source_id = \"no parent\",\n",
    "                                parent_variant_label = \"no parent\",\n",
    "                                parent_time_units = \"no parent\",\n",
    "                                branch_method = \"no parent\",\n",
    "                          )"
   ]
  },
  {
   "cell_type": "markdown",
   "id": "03bb4d31-c0a2-4d3f-ba9e-8cdab3f3c5a2",
   "metadata": {},
   "source": [
    "### 3. **Serializing the Experiment**\n",
    "Once the experiment is defined using the `ACCESS-ESM16-CMIP6` class, it is serialized into a **JSON** file. This serialized JSON file contains all the metadata and configurations associated with the experiment. The JSON file will then be used by the **CMORiser** to generate the CMORised output data files.\n",
    "\n",
    "This serialized file ensures that the necessary context, experiment configurations, and metadata are applied consistently throughout the CMORisation process.\n",
    "\n",
    "This experiment setup ensures that the required information (such as experiment configurations and global attributes) is automatically integrated into the CMORisation process, making the generated files compliant with the CMIP standards.\n",
    "\n",
    "In summary, the **experiment** dataclass defines the core properties of the CMIP experiment you're CMORising, with the **ACCESS-ESM16-CMIP6** class pre-filling essential details. The resulting experiment is serialized into a JSON file, ensuring that these attributes are consistently applied during CMORisation."
   ]
  },
  {
   "cell_type": "code",
   "execution_count": 4,
   "id": "8d170dc0-539c-462d-9549-6a20396e2c56",
   "metadata": {},
   "outputs": [
    {
     "name": "stdout",
     "output_type": "stream",
     "text": [
      "Data saved to experiment.json\n"
     ]
    }
   ],
   "source": [
    "experiment.save_to_file(\"experiment.json\")"
   ]
  },
  {
   "cell_type": "markdown",
   "id": "8de903bd-7b70-4532-b05d-085794ac1b41",
   "metadata": {},
   "source": [
    "## Explore Mapping information for a specific variable"
   ]
  },
  {
   "cell_type": "code",
   "execution_count": 5,
   "id": "487288a1-c8c0-4487-a46d-d2f1b39b32d9",
   "metadata": {},
   "outputs": [
    {
     "data": {
      "text/markdown": [
       "### Mapping Information for `Amon.hur`\n",
       "    - **Compound Name**: `Amon.hur`\n",
       "    - **CF Standard Name**: `N/A`\n",
       "    - **Required Variables**: `fld_s30i206`\n",
       "    - **Formula**: `fld_s30i206`"
      ],
      "text/plain": [
       "<IPython.core.display.Markdown object>"
      ]
     },
     "metadata": {},
     "output_type": "display_data"
    }
   ],
   "source": [
    "experiment.mapping_info(\"Amon.hur\")"
   ]
  },
  {
   "cell_type": "markdown",
   "id": "d5211725-b75d-4027-bf1b-b405321781cd",
   "metadata": {},
   "source": [
    "## CMORising files for a Land variable (baresoilFrac)\n",
    "\n",
    "To **CMORise** the content of outputs for a specific variable, such as `baresoilFrac` from the **Lmon** (monthly mean) dataset, we follow a structured approach using **CMIP** standards and leveraging the **compound name** for the variable. Let's break this down step by step:\n",
    "\n",
    "### 1. **Why Use a Compound Name?**\n",
    "In CMIP, each variable is not just defined by a name (e.g., `baresoilFrac`) but by a **compound name** that includes both the variable and its associated dimensions, ensuring that we look at the specific requirements set by CMIP for that variable. \n",
    "\n",
    "A **compound name** like `\"Lmon.baresoilFrac\"` helps:\n",
    "- **Define the frequency and variable**: `Lmon` indicates the dataset is for **monthly** means (monthly time step).\n",
    "- **Address the specific variable**: `baresoilFrac` is the specific variable related to bare soil fraction.\n",
    "\n",
    "This compound naming ensures that the CMORiser will apply the correct metadata and compliance rules for the given variable, ensuring it matches the CMIP specifications.\n",
    "\n",
    "### 2. **CMORisation Example**\n",
    "\n",
    "To CMORise the output data for the `baresoilFrac` variable from the **Lmon** dataset, we'll use the `cmorise` function. Below is an example of how you would use this function in your script:"
   ]
  },
  {
   "cell_type": "code",
   "execution_count": 6,
   "id": "39d3bf56-e3cb-408a-b725-de8132be7ec6",
   "metadata": {},
   "outputs": [
    {
     "name": "stdout",
     "output_type": "stream",
     "text": [
      "Stored in: MOPPeR_outputs/CMIP6/CMIP/CSIRO/ACCESS-ESM1-5/piControl-spinup/r1i1p1f1/Lmon/baresoilFrac/gn/v20250423/baresoilFrac_Lmon_ACCESS-ESM1-5_piControl-spinup_r1i1p1f1_gn_101909-101909.nc\n"
     ]
    },
    {
     "name": "stderr",
     "output_type": "stream",
     "text": [
      "\n",
      "! ------\n",
      "! All files were closed successfully. \n",
      "! ------\n",
      "! \n"
     ]
    }
   ],
   "source": [
    "import glob\n",
    "#from access_mopper.configurations import cmorise\n",
    "val = experiment.cmorise(file_paths=glob.glob(file_pattern),\n",
    "                         compound_name= \"Lmon.baresoilFrac\", \n",
    "                         cmor_dataset_json= \"experiment.json\",\n",
    "                         mip_table=\"CMIP6_Lmon.json\")"
   ]
  },
  {
   "cell_type": "markdown",
   "id": "4181bfe9-6e82-4134-a29f-6846e4beef89",
   "metadata": {},
   "source": [
    "\n",
    "### 3. **How It Works:**\n",
    "When you run this code:\n",
    "- The `cmorise` function will first use the **file paths** obtained from the `glob` pattern to locate the necessary data files (those containing the `baresoilFrac` variable).\n",
    "- The **compound name** (`Lmon.baresoilFrac`) will ensure that the CMORiser applies the correct rules and metadata for the **baresoilFrac** variable.\n",
    "- The experiment details and global attributes are read from the **`experiment.json`** file, ensuring that the resulting CMORised output files are tagged with the appropriate metadata (such as the experiment id, model configuration, and other details).\n",
    "- The **MIP table** (`CMIP6_Lmon.json`) will guide the CMORisation process, ensuring that the output files adhere to CMIP6 standards for Lmon-type variables."
   ]
  },
  {
   "cell_type": "markdown",
   "id": "59b4dedb-aca7-4969-a285-9a07561c3cea",
   "metadata": {},
   "source": [
    "## CMORising files for an Atmosphere variable (hur)\n"
   ]
  },
  {
   "cell_type": "code",
   "execution_count": 7,
   "id": "1668d7e1-b2ae-4632-987c-0a537da13e63",
   "metadata": {},
   "outputs": [],
   "source": [
    "file_pattern = \"../tests/data/esm1-6/atmosphere/aiihca.pa-101909_mon.nc\""
   ]
  },
  {
   "cell_type": "code",
   "execution_count": 8,
   "id": "1f56c125-d75c-4aba-9d19-cfe8923ed7d1",
   "metadata": {},
   "outputs": [
    {
     "name": "stdout",
     "output_type": "stream",
     "text": [
      "Stored in: MOPPeR_outputs/CMIP6/CMIP/CSIRO/ACCESS-ESM1-5/piControl-spinup/r1i1p1f1/Amon/hur/gn/v20250423/hur_Amon_ACCESS-ESM1-5_piControl-spinup_r1i1p1f1_gn_101909-101909.nc\n"
     ]
    },
    {
     "name": "stderr",
     "output_type": "stream",
     "text": [
      "/home/romain/PROJECTS/ACCESS-MOPPeR/mopper_conda/lib/python3.11/site-packages/cmor/pywrapper.py:759: UserWarning: Error: your data shape ((1, 19, 144, 192)) does not match the expected variable shape ([144, 192, 0, 19])\n",
      "Check your variable dimensions before caling cmor_write\n",
      "  warnings.warn(msg)\n",
      "\n",
      "! ------\n",
      "! All files were closed successfully. \n",
      "! ------\n",
      "! \n"
     ]
    }
   ],
   "source": [
    "val = experiment.cmorise(file_paths=glob.glob(file_pattern),\n",
    "                         compound_name= \"Amon.hur\", \n",
    "                         cmor_dataset_json= \"experiment.json\",\n",
    "                         mip_table=\"CMIP6_Amon.json\")"
   ]
  },
  {
   "cell_type": "markdown",
   "id": "158f4c2f-5e1c-4c25-b27d-129bade71078",
   "metadata": {},
   "source": [
    "## CMORising files for an Ocean variable (zos) (ACCESS-OM2 In development)"
   ]
  },
  {
   "cell_type": "code",
   "execution_count": 11,
   "id": "7c7708e7-d72c-4000-b4f4-b7afb45c4a6b",
   "metadata": {},
   "outputs": [],
   "source": [
    "file_pattern = \"/home/romain/PROJECTS/ACCESS-MOPPeR/Test_data/cj877/history/ocn/ocean-2d-sea_level-1-monthly-mean-ym_0326_01.nc\""
   ]
  },
  {
   "cell_type": "code",
   "execution_count": 12,
   "id": "de80090e-b503-4b63-b431-9facb0f40986",
   "metadata": {},
   "outputs": [],
   "source": [
    "experiment.supergrid = \"/home/romain/PROJECTS/ACCESS-MOPPeR/grids/access-om2/input_20201102/mom_025deg/ocean_hgrid.nc\""
   ]
  },
  {
   "cell_type": "code",
   "execution_count": 13,
   "id": "41ea0fec-0315-4be9-8d9d-0dc24b637ed3",
   "metadata": {},
   "outputs": [
    {
     "name": "stdout",
     "output_type": "stream",
     "text": [
      "Stored in: MOPPeR_outputs/CMIP6/CMIP/CSIRO/ACCESS-ESM1-5/piControl-spinup/r1i1p1f1/Omon/zos/gn/v20250423/zos_Omon_ACCESS-ESM1-5_piControl-spinup_r1i1p1f1_gn_032601-032606.nc\n"
     ]
    },
    {
     "name": "stderr",
     "output_type": "stream",
     "text": [
      "\n",
      "! ------\n",
      "! All files were closed successfully. \n",
      "! ------\n",
      "! \n"
     ]
    }
   ],
   "source": [
    "val = experiment.cmorise_ocean(file_paths=glob.glob(file_pattern),\n",
    "                               compound_name= \"Omon.zos\", \n",
    "                               cmor_dataset_json= \"experiment.json\",\n",
    "                               mip_table=\"CMIP6_Omon.json\")"
   ]
  },
  {
   "attachments": {},
   "cell_type": "markdown",
   "id": "e1ec289c-ddac-4384-bf9e-584a44bb3767",
   "metadata": {},
   "source": [
    "## CMORising files for an Ocean variable (tos) (ACCESS-OM3 In development)"
   ]
  },
  {
   "cell_type": "code",
   "execution_count": 4,
   "id": "c7b6beda-3d28-41ce-8bc7-02ce3402dfbc",
   "metadata": {},
   "outputs": [],
   "source": [
    "from access_mopper.configurations import ACCESS_OM3_CMIP6\n",
    "\n",
    "experiment = ACCESS_OM3_CMIP6(experiment_id = \"historical\", \n",
    "                                realization_index=\"1\", \n",
    "                                initialization_index=\"1\", \n",
    "                                physics_index=\"1\", \n",
    "                                forcing_index=\"1\", \n",
    "                                parent_mip_era=\"CMIP6\",\n",
    "                                parent_activity_id=\"CMIP\",\n",
    "                                parent_experiment_id= \"piControl\",\n",
    "                                parent_source_id = \"ACCESS-ESM1-5\",\n",
    "                                parent_variant_label = \"r1i1p1f1\",\n",
    "                                parent_time_units = \"days since 0101-1-1\",\n",
    "                                branch_method = \"standard\",\n",
    "                                branch_time_in_child = 0.0,\n",
    "                                branch_time_in_parent = 0.0)"
   ]
  },
  {
   "cell_type": "code",
   "execution_count": 5,
   "id": "aae20d6a-8ea6-44d6-9e25-ead8f2c93108",
   "metadata": {},
   "outputs": [
    {
     "name": "stdout",
     "output_type": "stream",
     "text": [
      "Data saved to experiment.json\n"
     ]
    }
   ],
   "source": [
    "experiment.save_to_file(\"experiment.json\")"
   ]
  },
  {
   "cell_type": "code",
   "execution_count": 6,
   "id": "350920e3-7ad0-44e5-98e8-653c4830f4e5",
   "metadata": {},
   "outputs": [
    {
     "data": {
      "text/markdown": [
       "### Mapping Information for `Omon.tos`\n",
       "    - **Compound Name**: `Omon.tos`\n",
       "    - **CF Standard Name**: `N/A`\n",
       "    - **Required Variables**: `tos`\n",
       "    - **Formula**: `tos`"
      ],
      "text/plain": [
       "<IPython.core.display.Markdown object>"
      ]
     },
     "metadata": {},
     "output_type": "display_data"
    }
   ],
   "source": [
    "experiment.mapping_info(\"Omon.tos\")"
   ]
  },
  {
   "cell_type": "code",
   "execution_count": 7,
   "id": "e228b219-6c5b-4ade-9d7d-fbd5d9e13ddb",
   "metadata": {},
   "outputs": [],
   "source": [
    "file_pattern = \"/g/data/tm70/ml0072/archive/access-om3/025deg_jra55do_ryf_2024.09.1_build_w_Ezhil_first_bathy_edit/output014/access-om3.mom6.2d.tos.1mon.mean.*.nc\""
   ]
  },
  {
   "cell_type": "code",
   "execution_count": 8,
   "id": "f72b09d5-fd4c-48ff-956a-e033af15a982",
   "metadata": {},
   "outputs": [],
   "source": [
    "experiment.supergrid = \"/g/data/vk83/prerelease/configurations/inputs/access-om3/mom/grids/mosaic/global.25km/2025.01.30/ocean_hgrid.nc\""
   ]
  },
  {
   "cell_type": "code",
   "execution_count": 9,
   "id": "3d75e6c4-c902-44f0-ba75-7c835483bf85",
   "metadata": {},
   "outputs": [
    {
     "name": "stderr",
     "output_type": "stream",
     "text": [
      "\n",
      "\u001b[2;34;47mC Traceback:\n",
      "In function: _CV_checkSourceID\n",
      "! called from: cmor_write\n",
      "! \u001b[0m\n",
      "\n",
      "\u001b[1;34;47m!!!!!!!!!!!!!!!!!!!!!!!!!\n",
      "!\n",
      "! Warning: Your input attribute \"source\" with value \n",
      "! \"ACCESS-OM3 (2025): (GFDL-MOM5, tripolar primarily 0.25deg; 1440 x 1142 longitude/latitude; 75 levels; top grid cell 0-10 m), ocnBgchem: none, seaIce: CICE5.1.2 (same grid as ocean)\" will be replaced with value \n",
      "! \"ACCESS-CM2 (2019): \n",
      "aerosol: UKCA-GLOMAP-mode\n",
      "atmos: MetUM-HadGEM3-GA7.1 (N96; 192 x 144 longitude/latitude; 85 levels; top level 85 km)\n",
      "atmosChem: none\n",
      "land: CABLE2.5\n",
      "landIce: none\n",
      "ocean: ACCESS-OM2 (GFDL-MOM5, tripolar primarily 1deg; 360 x 300 longitude/latitude; 50 levels; top grid cell 0-10 m)\n",
      "ocnBgchem: none\n",
      "seaIce: CICE5.1.2 (same grid as ocean)\".\n",
      "! \n",
      "! \n",
      "!  See Control Vocabulary JSON file.(/g/data/xp65/public/apps/med_conda/envs/analysis3-25.05/lib/python3.11/site-packages/access_mopper/cmor_tables/CMIP6_CV.json)\n",
      "! \n",
      "!\n",
      "!!!!!!!!!!!!!!!!!!!!!!!!!\u001b[0m\n",
      "\n"
     ]
    },
    {
     "name": "stdout",
     "output_type": "stream",
     "text": [
      "Stored in: MOPPeR_outputs/CMIP6/CMIP/CSIRO-ARCCSS/ACCESS-CM2/historical/r1i1p1f1/Omon/tos/gn/v20250502/tos_Omon_ACCESS-CM2_historical_r1i1p1f1_gn_192801-192912.nc\n"
     ]
    },
    {
     "name": "stderr",
     "output_type": "stream",
     "text": [
      "! ------\n",
      "! CMOR is now closed.\n",
      "! ------\n",
      "! During execution we encountered:\n",
      "!   1 Warning(s)\n",
      "!   0 Error(s)\n",
      "! ------\n",
      "! Please review them.\n",
      "! ------\n",
      "! \n"
     ]
    }
   ],
   "source": [
    "import glob\n",
    "val = experiment.cmorise(file_paths=file_pattern,\n",
    "            compound_name= \"Omon.tos\", \n",
    "            cmor_dataset_json= \"experiment.json\",\n",
    "            mip_table=\"CMIP6_Omon.json\")"
   ]
  },
  {
   "cell_type": "code",
   "execution_count": null,
   "id": "d4c44a43-ef66-4345-9f51-3c45ab53ae03",
   "metadata": {},
   "outputs": [],
   "source": []
  }
 ],
 "metadata": {
  "kernelspec": {
   "display_name": "Python 3 (ipykernel)",
   "language": "python",
   "name": "python3"
  },
  "language_info": {
   "codemirror_mode": {
    "name": "ipython",
    "version": 3
   },
   "file_extension": ".py",
   "mimetype": "text/x-python",
   "name": "python",
   "nbconvert_exporter": "python",
   "pygments_lexer": "ipython3",
   "version": "3.11.12"
  }
 },
 "nbformat": 4,
 "nbformat_minor": 5
}
